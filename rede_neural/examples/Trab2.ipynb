{
 "cells": [
  {
   "cell_type": "code",
   "execution_count": 1,
   "id": "a7c2d261",
   "metadata": {},
   "outputs": [],
   "source": [
    "from tensorflow.python.client import device_lib"
   ]
  },
  {
   "cell_type": "code",
   "execution_count": 2,
   "id": "6b38e0f5",
   "metadata": {
    "scrolled": true
   },
   "outputs": [
    {
     "name": "stdout",
     "output_type": "stream",
     "text": [
      "[name: \"/device:CPU:0\"\n",
      "device_type: \"CPU\"\n",
      "memory_limit: 268435456\n",
      "locality {\n",
      "}\n",
      "incarnation: 14514673314992676193\n",
      "]\n"
     ]
    }
   ],
   "source": [
    "print(device_lib.list_local_devices())"
   ]
  },
  {
   "cell_type": "code",
   "execution_count": null,
   "id": "b4231055",
   "metadata": {},
   "outputs": [],
   "source": []
  },
  {
   "cell_type": "code",
   "execution_count": null,
   "id": "76ea0573",
   "metadata": {},
   "outputs": [],
   "source": []
  },
  {
   "cell_type": "markdown",
   "id": "1d35a5a7",
   "metadata": {},
   "source": [
    "# 1. Criando o Modelo"
   ]
  },
  {
   "cell_type": "code",
   "execution_count": 3,
   "id": "ff6bdc97",
   "metadata": {},
   "outputs": [],
   "source": [
    "from keras.models import Sequential\n",
    "from keras.layers import Dense, Conv2D, Flatten, MaxPooling2D, InputLayer"
   ]
  },
  {
   "cell_type": "code",
   "execution_count": 4,
   "id": "b7cac59e",
   "metadata": {},
   "outputs": [
    {
     "name": "stderr",
     "output_type": "stream",
     "text": [
      "2021-07-18 11:34:05.850207: I tensorflow/stream_executor/cuda/cuda_gpu_executor.cc:937] successful NUMA node read from SysFS had negative value (-1), but there must be at least one NUMA node, so returning NUMA node zero\n",
      "2021-07-18 11:34:05.850732: I tensorflow/core/common_runtime/gpu/gpu_device.cc:1733] Found device 0 with properties: \n",
      "pciBusID: 0000:01:00.0 name: NVIDIA GeForce GTX 1050 computeCapability: 6.1\n",
      "coreClock: 1.493GHz coreCount: 5 deviceMemorySize: 3.95GiB deviceMemoryBandwidth: 104.43GiB/s\n",
      "2021-07-18 11:34:05.850857: I tensorflow/stream_executor/cuda/cuda_gpu_executor.cc:937] successful NUMA node read from SysFS had negative value (-1), but there must be at least one NUMA node, so returning NUMA node zero\n",
      "2021-07-18 11:34:05.851267: I tensorflow/stream_executor/cuda/cuda_gpu_executor.cc:937] successful NUMA node read from SysFS had negative value (-1), but there must be at least one NUMA node, so returning NUMA node zero\n",
      "2021-07-18 11:34:05.851606: I tensorflow/core/common_runtime/gpu/gpu_device.cc:1871] Adding visible gpu devices: 0\n",
      "2021-07-18 11:34:05.851993: I tensorflow/stream_executor/cuda/cuda_gpu_executor.cc:937] successful NUMA node read from SysFS had negative value (-1), but there must be at least one NUMA node, so returning NUMA node zero\n",
      "2021-07-18 11:34:05.852357: I tensorflow/core/common_runtime/gpu/gpu_device.cc:1733] Found device 0 with properties: \n",
      "pciBusID: 0000:01:00.0 name: NVIDIA GeForce GTX 1050 computeCapability: 6.1\n",
      "coreClock: 1.493GHz coreCount: 5 deviceMemorySize: 3.95GiB deviceMemoryBandwidth: 104.43GiB/s\n",
      "2021-07-18 11:34:05.852436: I tensorflow/stream_executor/cuda/cuda_gpu_executor.cc:937] successful NUMA node read from SysFS had negative value (-1), but there must be at least one NUMA node, so returning NUMA node zero\n",
      "2021-07-18 11:34:05.852758: I tensorflow/stream_executor/cuda/cuda_gpu_executor.cc:937] successful NUMA node read from SysFS had negative value (-1), but there must be at least one NUMA node, so returning NUMA node zero\n",
      "2021-07-18 11:34:05.853581: I tensorflow/core/common_runtime/gpu/gpu_device.cc:1871] Adding visible gpu devices: 0\n",
      "2021-07-18 11:34:05.853608: I tensorflow/core/common_runtime/gpu/gpu_device.cc:1258] Device interconnect StreamExecutor with strength 1 edge matrix:\n",
      "2021-07-18 11:34:05.853615: I tensorflow/core/common_runtime/gpu/gpu_device.cc:1264]      0 \n",
      "2021-07-18 11:34:05.853620: I tensorflow/core/common_runtime/gpu/gpu_device.cc:1277] 0:   N \n",
      "2021-07-18 11:34:05.853705: I tensorflow/stream_executor/cuda/cuda_gpu_executor.cc:937] successful NUMA node read from SysFS had negative value (-1), but there must be at least one NUMA node, so returning NUMA node zero\n",
      "2021-07-18 11:34:05.854006: I tensorflow/stream_executor/cuda/cuda_gpu_executor.cc:937] successful NUMA node read from SysFS had negative value (-1), but there must be at least one NUMA node, so returning NUMA node zero\n",
      "2021-07-18 11:34:05.854322: I tensorflow/core/common_runtime/gpu/gpu_device.cc:1418] Created TensorFlow device (/job:localhost/replica:0/task:0/device:GPU:0 with 3374 MB memory) -> physical GPU (device: 0, name: NVIDIA GeForce GTX 1050, pci bus id: 0000:01:00.0, compute capability: 6.1)\n"
     ]
    }
   ],
   "source": [
    "model = Sequential();\n",
    "model.add(Conv2D(16, kernel_size=3, activation='relu', input_shape=(32,32,3), padding='same'));\n",
    "model.add(MaxPooling2D(pool_size = (2,2)));\n",
    "model.add(Conv2D(16, kernel_size=3, activation='relu', padding='same'));\n",
    "model.add(Conv2D(16, kernel_size=3, activation='relu', padding='same'));\n",
    "model.add(MaxPooling2D(pool_size = (2,2)));\n",
    "model.add(Conv2D(32, kernel_size=3, activation='relu', padding='same'));\n",
    "model.add(Conv2D(32, kernel_size=3, activation='relu', padding='same'));\n",
    "model.add(MaxPooling2D(pool_size = (2,2)));\n",
    "model.add(Flatten());\n",
    "model.add(Dense(10, activation='softmax'));"
   ]
  },
  {
   "cell_type": "code",
   "execution_count": 5,
   "id": "15248cef",
   "metadata": {},
   "outputs": [
    {
     "name": "stdout",
     "output_type": "stream",
     "text": [
      "Model: \"sequential\"\n",
      "_________________________________________________________________\n",
      "Layer (type)                 Output Shape              Param #   \n",
      "=================================================================\n",
      "conv2d (Conv2D)              (None, 32, 32, 16)        448       \n",
      "_________________________________________________________________\n",
      "max_pooling2d (MaxPooling2D) (None, 16, 16, 16)        0         \n",
      "_________________________________________________________________\n",
      "conv2d_1 (Conv2D)            (None, 16, 16, 16)        2320      \n",
      "_________________________________________________________________\n",
      "conv2d_2 (Conv2D)            (None, 16, 16, 16)        2320      \n",
      "_________________________________________________________________\n",
      "max_pooling2d_1 (MaxPooling2 (None, 8, 8, 16)          0         \n",
      "_________________________________________________________________\n",
      "conv2d_3 (Conv2D)            (None, 8, 8, 32)          4640      \n",
      "_________________________________________________________________\n",
      "conv2d_4 (Conv2D)            (None, 8, 8, 32)          9248      \n",
      "_________________________________________________________________\n",
      "max_pooling2d_2 (MaxPooling2 (None, 4, 4, 32)          0         \n",
      "_________________________________________________________________\n",
      "flatten (Flatten)            (None, 512)               0         \n",
      "_________________________________________________________________\n",
      "dense (Dense)                (None, 10)                5130      \n",
      "=================================================================\n",
      "Total params: 24,106\n",
      "Trainable params: 24,106\n",
      "Non-trainable params: 0\n",
      "_________________________________________________________________\n"
     ]
    }
   ],
   "source": [
    "model.compile(optimizer='adam', loss='categorical_crossentropy', metrics=['accuracy'])\n",
    "model.summary()"
   ]
  },
  {
   "cell_type": "markdown",
   "id": "217c95cc",
   "metadata": {},
   "source": []
  },
  {
   "cell_type": "markdown",
   "id": "567ed0de",
   "metadata": {},
   "source": [
    "# 2. Carregando Base de Dados"
   ]
  },
  {
   "cell_type": "markdown",
   "id": "7c1a35c1",
   "metadata": {},
   "source": [
    "## 2.1. CIFAR-10"
   ]
  },
  {
   "cell_type": "code",
   "execution_count": 6,
   "id": "4ec25d57",
   "metadata": {},
   "outputs": [],
   "source": [
    "import numpy as np\n",
    "from keras.datasets import cifar10"
   ]
  },
  {
   "cell_type": "code",
   "execution_count": 7,
   "id": "1544b632",
   "metadata": {},
   "outputs": [
    {
     "data": {
      "text/plain": [
       "(((50000, 32, 32, 3), (50000, 1)), ((10000, 32, 32, 3), (10000, 1)))"
      ]
     },
     "execution_count": 7,
     "metadata": {},
     "output_type": "execute_result"
    }
   ],
   "source": [
    "(CF_X_train, CF_y_train), (CF_X_test, CF_y_test) = cifar10.load_data()\n",
    "(CF_X_train.shape, CF_y_train.shape), (CF_X_test.shape, CF_y_test.shape)"
   ]
  },
  {
   "cell_type": "markdown",
   "id": "fe26ec76",
   "metadata": {},
   "source": [
    "## 2.2. SVHN"
   ]
  },
  {
   "cell_type": "code",
   "execution_count": 8,
   "id": "c6a0224c",
   "metadata": {},
   "outputs": [
    {
     "data": {
      "text/plain": [
       "(((32, 32, 3, 73257), (73257, 1)), ((32, 32, 3, 26032), (26032, 1)))"
      ]
     },
     "execution_count": 8,
     "metadata": {},
     "output_type": "execute_result"
    }
   ],
   "source": [
    "from scipy.io import loadmat\n",
    "mat_test = loadmat('test_32x32.mat')\n",
    "mat_train = loadmat('train_32x32.mat')\n",
    "\n",
    "SV_X_train = mat_train['X']\n",
    "SV_y_train = mat_train['y']\n",
    "SV_X_test = mat_test['X']\n",
    "SV_y_test = mat_test['y']\n",
    "\n",
    "(SV_X_train.shape, SV_y_train.shape), (SV_X_test.shape, SV_y_test.shape)"
   ]
  },
  {
   "cell_type": "markdown",
   "id": "13ce609f",
   "metadata": {},
   "source": [
    "### 2.2.1. Mudar Ordem dos eixos na SVHN"
   ]
  },
  {
   "cell_type": "code",
   "execution_count": 9,
   "id": "f883e08d",
   "metadata": {
    "scrolled": true
   },
   "outputs": [
    {
     "data": {
      "text/plain": [
       "(((73257, 32, 32, 3), (73257, 1)), ((26032, 32, 32, 3), (26032, 1)))"
      ]
     },
     "execution_count": 9,
     "metadata": {},
     "output_type": "execute_result"
    }
   ],
   "source": [
    "SV_X_test = np.moveaxis(SV_X_test, 3, 0)\n",
    "SV_X_train = np.moveaxis(SV_X_train, 3, 0)\n",
    "(SV_X_train.shape, SV_y_train.shape), (SV_X_test.shape, SV_y_test.shape)"
   ]
  },
  {
   "cell_type": "markdown",
   "id": "b0301dd0",
   "metadata": {},
   "source": [
    "### 2.2.2. Iniciar classes a partir do 0"
   ]
  },
  {
   "cell_type": "code",
   "execution_count": 10,
   "id": "625887a7",
   "metadata": {},
   "outputs": [
    {
     "data": {
      "text/plain": [
       "(array([ 1,  2,  3,  4,  5,  6,  7,  8,  9, 10], dtype=uint8),\n",
       " array([ 1,  2,  3,  4,  5,  6,  7,  8,  9, 10], dtype=uint8))"
      ]
     },
     "execution_count": 10,
     "metadata": {},
     "output_type": "execute_result"
    }
   ],
   "source": [
    "np.unique(SV_y_train), np.unique(SV_y_test)"
   ]
  },
  {
   "cell_type": "code",
   "execution_count": 11,
   "id": "1506789c",
   "metadata": {},
   "outputs": [
    {
     "data": {
      "text/plain": [
       "(array([0, 1, 2, 3, 4, 5, 6, 7, 8, 9], dtype=uint8),\n",
       " array([0, 1, 2, 3, 4, 5, 6, 7, 8, 9], dtype=uint8))"
      ]
     },
     "execution_count": 11,
     "metadata": {},
     "output_type": "execute_result"
    }
   ],
   "source": [
    "SV_y_test[SV_y_test==10]=0\n",
    "SV_y_train[SV_y_train==10]=0\n",
    "np.unique(SV_y_train), np.unique(SV_y_test)"
   ]
  },
  {
   "cell_type": "raw",
   "id": "6cba68ca",
   "metadata": {},
   "source": []
  },
  {
   "cell_type": "raw",
   "id": "23c253d0",
   "metadata": {},
   "source": []
  },
  {
   "cell_type": "markdown",
   "id": "ddb7bec5",
   "metadata": {},
   "source": [
    "### 2.3. Transformar Y_test e y_train em vertores"
   ]
  },
  {
   "cell_type": "markdown",
   "id": "b7e36304",
   "metadata": {},
   "source": [
    "### 2.3.1. CIFAR-10"
   ]
  },
  {
   "cell_type": "code",
   "execution_count": 12,
   "id": "7cd8ea01",
   "metadata": {},
   "outputs": [
    {
     "data": {
      "text/plain": [
       "(((50000, 32, 32, 3), (50000,)), ((10000, 32, 32, 3), (10000,)))"
      ]
     },
     "execution_count": 12,
     "metadata": {},
     "output_type": "execute_result"
    }
   ],
   "source": [
    "CF_y_train = CF_y_train.squeeze()\n",
    "CF_y_test = CF_y_test.squeeze()\n",
    "(CF_X_train.shape, CF_y_train.shape), (CF_X_test.shape, CF_y_test.shape)"
   ]
  },
  {
   "cell_type": "markdown",
   "id": "de98323b",
   "metadata": {},
   "source": [
    "### 2.3.2. SVHN"
   ]
  },
  {
   "cell_type": "code",
   "execution_count": 13,
   "id": "b4aec16e",
   "metadata": {},
   "outputs": [
    {
     "data": {
      "text/plain": [
       "(((73257, 32, 32, 3), (73257,)), ((26032, 32, 32, 3), (26032,)))"
      ]
     },
     "execution_count": 13,
     "metadata": {},
     "output_type": "execute_result"
    }
   ],
   "source": [
    "SV_y_train = SV_y_train.squeeze()\n",
    "SV_y_test = SV_y_test.squeeze()\n",
    "(SV_X_train.shape, SV_y_train.shape), (SV_X_test.shape, SV_y_test.shape)"
   ]
  },
  {
   "cell_type": "raw",
   "id": "8dd3bfbe",
   "metadata": {},
   "source": []
  },
  {
   "cell_type": "markdown",
   "id": "eb3ca6f5",
   "metadata": {},
   "source": [
    "## 2.4.  Converter para Float32 e Transformar imagens para ficar entre 0 e 1"
   ]
  },
  {
   "cell_type": "markdown",
   "id": "96fba030",
   "metadata": {},
   "source": [
    "### 2.4.1. CIFAR-10"
   ]
  },
  {
   "cell_type": "code",
   "execution_count": 14,
   "id": "e5bc09eb",
   "metadata": {},
   "outputs": [
    {
     "data": {
      "text/plain": [
       "(dtype('float32'), dtype('float32'))"
      ]
     },
     "execution_count": 14,
     "metadata": {},
     "output_type": "execute_result"
    }
   ],
   "source": [
    "CF_X_train = CF_X_train.astype(np.float32)\n",
    "CF_X_test = CF_X_test.astype(np.float32)\n",
    "CF_X_train.dtype, CF_X_test.dtype"
   ]
  },
  {
   "cell_type": "code",
   "execution_count": 15,
   "id": "1645ad10",
   "metadata": {},
   "outputs": [
    {
     "data": {
      "text/plain": [
       "((0.0, 255.0), (0.0, 255.0))"
      ]
     },
     "execution_count": 15,
     "metadata": {},
     "output_type": "execute_result"
    }
   ],
   "source": [
    "(CF_X_train.min(), CF_X_train.max()), (CF_X_test.min(), CF_X_test.max())"
   ]
  },
  {
   "cell_type": "code",
   "execution_count": 16,
   "id": "94d79129",
   "metadata": {},
   "outputs": [
    {
     "data": {
      "text/plain": [
       "((0.0, 1.0), (0.0, 1.0))"
      ]
     },
     "execution_count": 16,
     "metadata": {},
     "output_type": "execute_result"
    }
   ],
   "source": [
    "CF_X_train /= 255\n",
    "CF_X_test /= 255\n",
    "(CF_X_train.min(), CF_X_train.max()), (CF_X_test.min(), CF_X_test.max())"
   ]
  },
  {
   "cell_type": "markdown",
   "id": "7e9f951d",
   "metadata": {},
   "source": [
    "### 2.4.2. SVHN"
   ]
  },
  {
   "cell_type": "code",
   "execution_count": 17,
   "id": "66e6a1fa",
   "metadata": {},
   "outputs": [
    {
     "data": {
      "text/plain": [
       "(dtype('float32'), dtype('float32'))"
      ]
     },
     "execution_count": 17,
     "metadata": {},
     "output_type": "execute_result"
    }
   ],
   "source": [
    "SV_X_train = SV_X_train.astype(np.float32)\n",
    "SV_X_test = SV_X_test.astype(np.float32)\n",
    "SV_X_train.dtype, SV_X_test.dtype"
   ]
  },
  {
   "cell_type": "code",
   "execution_count": 18,
   "id": "136a9fda",
   "metadata": {},
   "outputs": [
    {
     "data": {
      "text/plain": [
       "((0.0, 255.0), (0.0, 255.0))"
      ]
     },
     "execution_count": 18,
     "metadata": {},
     "output_type": "execute_result"
    }
   ],
   "source": [
    "(SV_X_train.min(), SV_X_train.max()), (SV_X_test.min(), SV_X_test.max())"
   ]
  },
  {
   "cell_type": "code",
   "execution_count": 19,
   "id": "51d7b01b",
   "metadata": {},
   "outputs": [],
   "source": [
    "SV_X_train /= 255\n",
    "SV_X_test /= 255"
   ]
  },
  {
   "cell_type": "code",
   "execution_count": 20,
   "id": "83c9734f",
   "metadata": {},
   "outputs": [
    {
     "data": {
      "text/plain": [
       "((0.0, 1.0), (0.0, 1.0))"
      ]
     },
     "execution_count": 20,
     "metadata": {},
     "output_type": "execute_result"
    }
   ],
   "source": [
    "(SV_X_train.min(), SV_X_train.max()), (SV_X_test.min(), SV_X_test.max())"
   ]
  },
  {
   "cell_type": "raw",
   "id": "8bed4124",
   "metadata": {},
   "source": []
  },
  {
   "cell_type": "markdown",
   "id": "0f49f7f4",
   "metadata": {},
   "source": [
    "## 2.5.  Tamanho e Quantidade das imagens"
   ]
  },
  {
   "cell_type": "markdown",
   "id": "f2d56a32",
   "metadata": {},
   "source": [
    "### 2.5.1. CIFAR-10"
   ]
  },
  {
   "cell_type": "code",
   "execution_count": 21,
   "id": "23265606",
   "metadata": {},
   "outputs": [
    {
     "data": {
      "text/plain": [
       "(((50000, 32, 32, 3), (50000,)), ((10000, 32, 32, 3), (10000,)))"
      ]
     },
     "execution_count": 21,
     "metadata": {},
     "output_type": "execute_result"
    }
   ],
   "source": [
    "(CF_X_train.shape, CF_y_train.shape), (CF_X_test.shape, CF_y_test.shape)"
   ]
  },
  {
   "cell_type": "markdown",
   "id": "ec49299e",
   "metadata": {},
   "source": [
    "### 2.5.2. SVHN"
   ]
  },
  {
   "cell_type": "code",
   "execution_count": 22,
   "id": "2597b824",
   "metadata": {},
   "outputs": [
    {
     "data": {
      "text/plain": [
       "(((73257, 32, 32, 3), (73257,)), ((26032, 32, 32, 3), (26032,)))"
      ]
     },
     "execution_count": 22,
     "metadata": {},
     "output_type": "execute_result"
    }
   ],
   "source": [
    "(SV_X_train.shape, SV_y_train.shape), (SV_X_test.shape, SV_y_test.shape)"
   ]
  },
  {
   "cell_type": "raw",
   "id": "8f663841",
   "metadata": {},
   "source": []
  },
  {
   "cell_type": "markdown",
   "id": "f80917fc",
   "metadata": {},
   "source": [
    "## 2.6. Distribuição das Classes"
   ]
  },
  {
   "cell_type": "markdown",
   "id": "80624a18",
   "metadata": {},
   "source": [
    "### 2.6.1. CIFAR-10"
   ]
  },
  {
   "cell_type": "code",
   "execution_count": 23,
   "id": "8b86f62d",
   "metadata": {},
   "outputs": [
    {
     "data": {
      "text/plain": [
       "((array([0, 1, 2, 3, 4, 5, 6, 7, 8, 9], dtype=uint8),\n",
       "  array([5000, 5000, 5000, 5000, 5000, 5000, 5000, 5000, 5000, 5000])),\n",
       " (array([0, 1, 2, 3, 4, 5, 6, 7, 8, 9], dtype=uint8),\n",
       "  array([1000, 1000, 1000, 1000, 1000, 1000, 1000, 1000, 1000, 1000])))"
      ]
     },
     "execution_count": 23,
     "metadata": {},
     "output_type": "execute_result"
    }
   ],
   "source": [
    "(unique_train, counts_train) = np.unique(CF_y_train, return_counts=True)\n",
    "(unique_test, counts_test) = np.unique(CF_y_test, return_counts=True)\n",
    "\n",
    "(unique_train, counts_train), (unique_test, counts_test)"
   ]
  },
  {
   "cell_type": "markdown",
   "id": "0cfd37d7",
   "metadata": {},
   "source": [
    "### 2.6.2. SVHN"
   ]
  },
  {
   "cell_type": "code",
   "execution_count": 24,
   "id": "d2512f64",
   "metadata": {},
   "outputs": [
    {
     "data": {
      "text/plain": [
       "((array([0, 1, 2, 3, 4, 5, 6, 7, 8, 9], dtype=uint8),\n",
       "  array([ 4948, 13861, 10585,  8497,  7458,  6882,  5727,  5595,  5045,\n",
       "          4659])),\n",
       " (array([0, 1, 2, 3, 4, 5, 6, 7, 8, 9], dtype=uint8),\n",
       "  array([1744, 5099, 4149, 2882, 2523, 2384, 1977, 2019, 1660, 1595])))"
      ]
     },
     "execution_count": 24,
     "metadata": {},
     "output_type": "execute_result"
    }
   ],
   "source": [
    "(unique_train, counts_train) = np.unique(SV_y_train, return_counts=True)\n",
    "(unique_test, counts_test) = np.unique(SV_y_test, return_counts=True)\n",
    "\n",
    "(unique_train, counts_train), (unique_test, counts_test)"
   ]
  },
  {
   "cell_type": "raw",
   "id": "e23481f8",
   "metadata": {},
   "source": []
  },
  {
   "cell_type": "markdown",
   "id": "4be97531",
   "metadata": {},
   "source": [
    "## 2.7. Converter Classes para UINT8"
   ]
  },
  {
   "cell_type": "markdown",
   "id": "fdb8a965",
   "metadata": {},
   "source": [
    "### 2.7.1. CIFAR-10"
   ]
  },
  {
   "cell_type": "code",
   "execution_count": 25,
   "id": "98f45be9",
   "metadata": {},
   "outputs": [
    {
     "data": {
      "text/plain": [
       "(dtype('uint8'), dtype('uint8'))"
      ]
     },
     "execution_count": 25,
     "metadata": {},
     "output_type": "execute_result"
    }
   ],
   "source": [
    "# Já está em UINT8\n",
    "CF_y_train.dtype, CF_y_test.dtype"
   ]
  },
  {
   "cell_type": "markdown",
   "id": "49d33797",
   "metadata": {},
   "source": [
    "### 2.7.2. SVHN"
   ]
  },
  {
   "cell_type": "code",
   "execution_count": 26,
   "id": "30846a2e",
   "metadata": {
    "scrolled": false
   },
   "outputs": [
    {
     "data": {
      "text/plain": [
       "(dtype('uint8'), dtype('uint8'))"
      ]
     },
     "execution_count": 26,
     "metadata": {},
     "output_type": "execute_result"
    }
   ],
   "source": [
    "# Já está em UINT8\n",
    "SV_y_train.dtype, SV_y_test.dtype"
   ]
  },
  {
   "cell_type": "raw",
   "id": "05c649c2",
   "metadata": {},
   "source": []
  },
  {
   "cell_type": "markdown",
   "id": "6ecbe0af",
   "metadata": {},
   "source": [
    "## 2.8. To Categorical"
   ]
  },
  {
   "cell_type": "code",
   "execution_count": 27,
   "id": "fe815ec7",
   "metadata": {},
   "outputs": [],
   "source": [
    "from tensorflow.keras.utils import to_categorical"
   ]
  },
  {
   "cell_type": "code",
   "execution_count": 28,
   "id": "586e78a7",
   "metadata": {},
   "outputs": [],
   "source": [
    "num_classes_CF = len(np.unique(CF_y_train))\n",
    "num_classes_SV = len(np.unique(SV_y_train))\n",
    "\n",
    "CF_y_train = to_categorical(CF_y_train, num_classes_CF)\n",
    "SV_y_train = to_categorical(SV_y_train, num_classes_SV)"
   ]
  },
  {
   "cell_type": "code",
   "execution_count": null,
   "id": "51bdc843",
   "metadata": {},
   "outputs": [],
   "source": []
  },
  {
   "cell_type": "markdown",
   "id": "5c5e31f9",
   "metadata": {},
   "source": [
    "# 3. Inserir Ruido nas imagens"
   ]
  },
  {
   "cell_type": "markdown",
   "id": "1205403e",
   "metadata": {},
   "source": [
    "## 3.1. CIFAR-10"
   ]
  },
  {
   "cell_type": "code",
   "execution_count": 29,
   "id": "c3e71f12",
   "metadata": {},
   "outputs": [],
   "source": [
    "from skimage.util import random_noise\n",
    "import matplotlib.pyplot as plt"
   ]
  },
  {
   "cell_type": "code",
   "execution_count": 30,
   "id": "451f46d9",
   "metadata": {},
   "outputs": [],
   "source": [
    "CF_X_NoNoise = CF_X_train\n",
    "CF_X_LowNoise = CF_X_train.copy()\n",
    "CF_X_HighNoise = CF_X_train.copy()"
   ]
  },
  {
   "cell_type": "code",
   "execution_count": 31,
   "id": "79d65f33",
   "metadata": {},
   "outputs": [],
   "source": [
    "for i in range(CF_X_train.shape[0]):\n",
    "    CF_X_LowNoise[i] = random_noise(CF_X_LowNoise[i], mode='gaussian', var=0.001)\n",
    "    CF_X_HighNoise[i] = random_noise(CF_X_HighNoise[i], mode='gaussian', var=0.01)"
   ]
  },
  {
   "cell_type": "code",
   "execution_count": 32,
   "id": "7ffd897d",
   "metadata": {},
   "outputs": [
    {
     "data": {
      "text/plain": [
       "Text(0.5, 1.0, 'High Noise')"
      ]
     },
     "execution_count": 32,
     "metadata": {},
     "output_type": "execute_result"
    },
    {
     "data": {
      "image/png": "[encoded data removed]",
      "text/plain": [
       "<Figure size 360x360 with 1 Axes>"
      ]
     },
     "metadata": {
      "needs_background": "light"
     },
     "output_type": "display_data"
    },
    {
     "data": {
      "image/png": "[encoded data removed]",
      "text/plain": [
       "<Figure size 360x360 with 1 Axes>"
      ]
     },
     "metadata": {
      "needs_background": "light"
     },
     "output_type": "display_data"
    },
    {
     "data": {
      "image/png": "[encoded data removed]",
      "text/plain": [
       "<Figure size 360x360 with 1 Axes>"
      ]
     },
     "metadata": {
      "needs_background": "light"
     },
     "output_type": "display_data"
    }
   ],
   "source": [
    "CF_id = 1\n",
    "\n",
    "plt.rcParams['figure.figsize'] = 5, 5\n",
    "plt.figure()\n",
    "plt.imshow(CF_X_NoNoise[CF_id])\n",
    "plt.title(\"No Noise\")\n",
    "\n",
    "plt.figure()\n",
    "plt.imshow(CF_X_LowNoise[CF_id])\n",
    "plt.title(\"Low Noise\")\n",
    "\n",
    "plt.figure()\n",
    "plt.imshow(CF_X_HighNoise[CF_id])\n",
    "plt.title(\"High Noise\")"
   ]
  },
  {
   "cell_type": "raw",
   "id": "c5c59cbe",
   "metadata": {},
   "source": []
  },
  {
   "cell_type": "markdown",
   "id": "fd8f6393",
   "metadata": {},
   "source": [
    "## 3.2. SVHN"
   ]
  },
  {
   "cell_type": "code",
   "execution_count": 33,
   "id": "9894c030",
   "metadata": {},
   "outputs": [],
   "source": [
    "SV_X_NoNoise = SV_X_train\n",
    "SV_X_LowNoise = SV_X_train.copy()\n",
    "SV_X_HighNoise = SV_X_train.copy()"
   ]
  },
  {
   "cell_type": "code",
   "execution_count": 34,
   "id": "dd313c9e",
   "metadata": {},
   "outputs": [],
   "source": [
    "for i in range(SV_X_train.shape[0]):\n",
    "    SV_X_LowNoise[i] = random_noise(SV_X_LowNoise[i], mode='gaussian', var=0.001)\n",
    "    SV_X_HighNoise[i] = random_noise(SV_X_HighNoise[i], mode='gaussian', var=0.01)"
   ]
  },
  {
   "cell_type": "code",
   "execution_count": 35,
   "id": "82cc1082",
   "metadata": {},
   "outputs": [
    {
     "data": {
      "text/plain": [
       "Text(0.5, 1.0, 'High Noise')"
      ]
     },
     "execution_count": 35,
     "metadata": {},
     "output_type": "execute_result"
    },
    {
     "data": {
      "image/png": "[encoded data removed]",
      "text/plain": [
       "<Figure size 360x360 with 1 Axes>"
      ]
     },
     "metadata": {
      "needs_background": "light"
     },
     "output_type": "display_data"
    },
    {
     "data": {
      "image/png": "[encoded data removed]",
      "text/plain": [
       "<Figure size 360x360 with 1 Axes>"
      ]
     },
     "metadata": {
      "needs_background": "light"
     },
     "output_type": "display_data"
    },
    {
     "data": {
      "image/png": "[encoded data removed]",
      "text/plain": [
       "<Figure size 360x360 with 1 Axes>"
      ]
     },
     "metadata": {
      "needs_background": "light"
     },
     "output_type": "display_data"
    }
   ],
   "source": [
    "SV_id = 1\n",
    "\n",
    "plt.rcParams['figure.figsize'] = 5, 5\n",
    "plt.figure()\n",
    "plt.imshow(SV_X_NoNoise[CF_id])\n",
    "plt.title(\"No Noise\")\n",
    "\n",
    "plt.figure()\n",
    "plt.imshow(SV_X_LowNoise[CF_id])\n",
    "plt.title(\"Low Noise\")\n",
    "\n",
    "plt.figure()\n",
    "plt.imshow(SV_X_HighNoise[CF_id])\n",
    "plt.title(\"High Noise\")"
   ]
  },
  {
   "cell_type": "raw",
   "id": "301dc5b6",
   "metadata": {},
   "source": []
  },
  {
   "cell_type": "markdown",
   "id": "cf926662",
   "metadata": {},
   "source": [
    "# 4. Treinando os modelos"
   ]
  },
  {
   "cell_type": "code",
   "execution_count": 36,
   "id": "e6eb79a7",
   "metadata": {},
   "outputs": [],
   "source": [
    "from keras.models import clone_model"
   ]
  },
  {
   "cell_type": "code",
   "execution_count": 37,
   "id": "e83543c5",
   "metadata": {},
   "outputs": [],
   "source": [
    "model_CF_NoNoise =   clone_model(model)\n",
    "model_CF_LowNoise =  clone_model(model)\n",
    "model_CF_HighNoise = clone_model(model)\n",
    "model_SV_NoNoise =   clone_model(model)\n",
    "model_SV_LowNoise =  clone_model(model)\n",
    "model_SV_HighNoise = clone_model(model)\n",
    "\n",
    "model_CF_NoNoise.compile  (optimizer='adam', loss='categorical_crossentropy', metrics=['accuracy'])\n",
    "model_CF_LowNoise.compile (optimizer='adam', loss='categorical_crossentropy', metrics=['accuracy'])\n",
    "model_CF_HighNoise.compile(optimizer='adam', loss='categorical_crossentropy', metrics=['accuracy'])\n",
    "model_SV_NoNoise.compile  (optimizer='adam', loss='categorical_crossentropy', metrics=['accuracy'])\n",
    "model_SV_LowNoise.compile (optimizer='adam', loss='categorical_crossentropy', metrics=['accuracy'])\n",
    "model_SV_HighNoise.compile(optimizer='adam', loss='categorical_crossentropy', metrics=['accuracy'])\n"
   ]
  },
  {
   "cell_type": "code",
   "execution_count": 38,
   "id": "28ea129a",
   "metadata": {},
   "outputs": [
    {
     "name": "stdout",
     "output_type": "stream",
     "text": [
      "Model: \"sequential\"\n",
      "_________________________________________________________________\n",
      "Layer (type)                 Output Shape              Param #   \n",
      "=================================================================\n",
      "conv2d (Conv2D)              (None, 32, 32, 16)        448       \n",
      "_________________________________________________________________\n",
      "max_pooling2d (MaxPooling2D) (None, 16, 16, 16)        0         \n",
      "_________________________________________________________________\n",
      "conv2d_1 (Conv2D)            (None, 16, 16, 16)        2320      \n",
      "_________________________________________________________________\n",
      "conv2d_2 (Conv2D)            (None, 16, 16, 16)        2320      \n",
      "_________________________________________________________________\n",
      "max_pooling2d_1 (MaxPooling2 (None, 8, 8, 16)          0         \n",
      "_________________________________________________________________\n",
      "conv2d_3 (Conv2D)            (None, 8, 8, 32)          4640      \n",
      "_________________________________________________________________\n",
      "conv2d_4 (Conv2D)            (None, 8, 8, 32)          9248      \n",
      "_________________________________________________________________\n",
      "max_pooling2d_2 (MaxPooling2 (None, 4, 4, 32)          0         \n",
      "_________________________________________________________________\n",
      "flatten (Flatten)            (None, 512)               0         \n",
      "_________________________________________________________________\n",
      "dense (Dense)                (None, 10)                5130      \n",
      "=================================================================\n",
      "Total params: 24,106\n",
      "Trainable params: 24,106\n",
      "Non-trainable params: 0\n",
      "_________________________________________________________________\n"
     ]
    }
   ],
   "source": [
    "model_CF_NoNoise.summary()"
   ]
  },
  {
   "cell_type": "code",
   "execution_count": 39,
   "id": "b30e13ef",
   "metadata": {},
   "outputs": [
    {
     "data": {
      "text/plain": [
       "((50000, 32, 32, 3), (50000, 10))"
      ]
     },
     "execution_count": 39,
     "metadata": {},
     "output_type": "execute_result"
    }
   ],
   "source": [
    "CF_X_NoNoise.shape, CF_y_train.shape"
   ]
  },
  {
   "cell_type": "code",
   "execution_count": 40,
   "id": "38bd2139",
   "metadata": {},
   "outputs": [
    {
     "name": "stderr",
     "output_type": "stream",
     "text": [
      "2021-07-18 11:34:55.477435: I tensorflow/compiler/mlir/mlir_graph_optimization_pass.cc:176] None of the MLIR Optimization Passes are enabled (registered 2)\n",
      "2021-07-18 11:34:55.494200: I tensorflow/core/platform/profile_utils/cpu_utils.cc:114] CPU Frequency: 2499950000 Hz\n"
     ]
    },
    {
     "name": "stdout",
     "output_type": "stream",
     "text": [
      "Epoch 1/10\n"
     ]
    },
    {
     "name": "stderr",
     "output_type": "stream",
     "text": [
      "2021-07-18 11:35:09.536034: I tensorflow/stream_executor/platform/default/dso_loader.cc:53] Successfully opened dynamic library libcudnn.so.8\n",
      "2021-07-18 11:35:09.738976: E tensorflow/stream_executor/cuda/cuda_dnn.cc:352] Loaded runtime CuDNN library: 8.0.4 but source was compiled with: 8.1.0.  CuDNN library needs to have matching major version and equal or higher minor version. If using a binary install, upgrade your CuDNN library.  If building from sources, make sure the library loaded at runtime is compatible with the version specified during compile configuration.\n",
      "2021-07-18 11:35:09.741337: E tensorflow/stream_executor/cuda/cuda_dnn.cc:352] Loaded runtime CuDNN library: 8.0.4 but source was compiled with: 8.1.0.  CuDNN library needs to have matching major version and equal or higher minor version. If using a binary install, upgrade your CuDNN library.  If building from sources, make sure the library loaded at runtime is compatible with the version specified during compile configuration.\n",
      "2021-07-18 11:35:09.742629: W tensorflow/core/framework/op_kernel.cc:1767] OP_REQUIRES failed at conv_ops_fused_impl.h:698 : Unknown: Failed to get convolution algorithm. This is probably because cuDNN failed to initialize, so try looking to see if a warning log message was printed above.\n"
     ]
    },
    {
     "ename": "UnknownError",
     "evalue": " Failed to get convolution algorithm. This is probably because cuDNN failed to initialize, so try looking to see if a warning log message was printed above.\n\t [[node sequential/conv2d/Relu (defined at home/ribeiro/.local/lib/python3.9/site-packages/keras/backend.py:4700) ]] [Op:__inference_train_function_1985]\n\nErrors may have originated from an input operation.\nInput Source operations connected to node sequential/conv2d/Relu:\n sequential/conv2d/BiasAdd (defined at home/ribeiro/.local/lib/python3.9/site-packages/keras/layers/convolutional.py:263)\n\nFunction call stack:\ntrain_function\n",
     "output_type": "error",
     "traceback": [
      "\u001b[0;31m---------------------------------------------------------------------------\u001b[0m",
      "\u001b[0;31mUnknownError\u001b[0m                              Traceback (most recent call last)",
      "\u001b[0;32m/tmp/ipykernel_222184/101249282.py\u001b[0m in \u001b[0;36m<module>\u001b[0;34m\u001b[0m\n\u001b[0;32m----> 1\u001b[0;31m \u001b[0mmodel_CF_NoNoise\u001b[0m\u001b[0;34m.\u001b[0m\u001b[0mfit\u001b[0m\u001b[0;34m(\u001b[0m\u001b[0mCF_X_NoNoise\u001b[0m\u001b[0;34m,\u001b[0m \u001b[0mCF_y_train\u001b[0m\u001b[0;34m,\u001b[0m \u001b[0mepochs\u001b[0m\u001b[0;34m=\u001b[0m\u001b[0;36m10\u001b[0m\u001b[0;34m,\u001b[0m \u001b[0mverbose\u001b[0m\u001b[0;34m=\u001b[0m\u001b[0;36m1\u001b[0m\u001b[0;34m)\u001b[0m\u001b[0;34m\u001b[0m\u001b[0;34m\u001b[0m\u001b[0m\n\u001b[0m",
      "\u001b[0;32m~/.local/lib/python3.9/site-packages/keras/engine/training.py\u001b[0m in \u001b[0;36mfit\u001b[0;34m(self, x, y, batch_size, epochs, verbose, callbacks, validation_split, validation_data, shuffle, class_weight, sample_weight, initial_epoch, steps_per_epoch, validation_steps, validation_batch_size, validation_freq, max_queue_size, workers, use_multiprocessing)\u001b[0m\n\u001b[1;32m   1156\u001b[0m                 _r=1):\n\u001b[1;32m   1157\u001b[0m               \u001b[0mcallbacks\u001b[0m\u001b[0;34m.\u001b[0m\u001b[0mon_train_batch_begin\u001b[0m\u001b[0;34m(\u001b[0m\u001b[0mstep\u001b[0m\u001b[0;34m)\u001b[0m\u001b[0;34m\u001b[0m\u001b[0;34m\u001b[0m\u001b[0m\n\u001b[0;32m-> 1158\u001b[0;31m               \u001b[0mtmp_logs\u001b[0m \u001b[0;34m=\u001b[0m \u001b[0mself\u001b[0m\u001b[0;34m.\u001b[0m\u001b[0mtrain_function\u001b[0m\u001b[0;34m(\u001b[0m\u001b[0miterator\u001b[0m\u001b[0;34m)\u001b[0m\u001b[0;34m\u001b[0m\u001b[0;34m\u001b[0m\u001b[0m\n\u001b[0m\u001b[1;32m   1159\u001b[0m               \u001b[0;32mif\u001b[0m \u001b[0mdata_handler\u001b[0m\u001b[0;34m.\u001b[0m\u001b[0mshould_sync\u001b[0m\u001b[0;34m:\u001b[0m\u001b[0;34m\u001b[0m\u001b[0;34m\u001b[0m\u001b[0m\n\u001b[1;32m   1160\u001b[0m                 \u001b[0mcontext\u001b[0m\u001b[0;34m.\u001b[0m\u001b[0masync_wait\u001b[0m\u001b[0;34m(\u001b[0m\u001b[0;34m)\u001b[0m\u001b[0;34m\u001b[0m\u001b[0;34m\u001b[0m\u001b[0m\n",
      "\u001b[0;32m~/.local/lib/python3.9/site-packages/tensorflow/python/eager/def_function.py\u001b[0m in \u001b[0;36m__call__\u001b[0;34m(self, *args, **kwds)\u001b[0m\n\u001b[1;32m    887\u001b[0m \u001b[0;34m\u001b[0m\u001b[0m\n\u001b[1;32m    888\u001b[0m       \u001b[0;32mwith\u001b[0m \u001b[0mOptionalXlaContext\u001b[0m\u001b[0;34m(\u001b[0m\u001b[0mself\u001b[0m\u001b[0;34m.\u001b[0m\u001b[0m_jit_compile\u001b[0m\u001b[0;34m)\u001b[0m\u001b[0;34m:\u001b[0m\u001b[0;34m\u001b[0m\u001b[0;34m\u001b[0m\u001b[0m\n\u001b[0;32m--> 889\u001b[0;31m         \u001b[0mresult\u001b[0m \u001b[0;34m=\u001b[0m \u001b[0mself\u001b[0m\u001b[0;34m.\u001b[0m\u001b[0m_call\u001b[0m\u001b[0;34m(\u001b[0m\u001b[0;34m*\u001b[0m\u001b[0margs\u001b[0m\u001b[0;34m,\u001b[0m \u001b[0;34m**\u001b[0m\u001b[0mkwds\u001b[0m\u001b[0;34m)\u001b[0m\u001b[0;34m\u001b[0m\u001b[0;34m\u001b[0m\u001b[0m\n\u001b[0m\u001b[1;32m    890\u001b[0m \u001b[0;34m\u001b[0m\u001b[0m\n\u001b[1;32m    891\u001b[0m       \u001b[0mnew_tracing_count\u001b[0m \u001b[0;34m=\u001b[0m \u001b[0mself\u001b[0m\u001b[0;34m.\u001b[0m\u001b[0mexperimental_get_tracing_count\u001b[0m\u001b[0;34m(\u001b[0m\u001b[0;34m)\u001b[0m\u001b[0;34m\u001b[0m\u001b[0;34m\u001b[0m\u001b[0m\n",
      "\u001b[0;32m~/.local/lib/python3.9/site-packages/tensorflow/python/eager/def_function.py\u001b[0m in \u001b[0;36m_call\u001b[0;34m(self, *args, **kwds)\u001b[0m\n\u001b[1;32m    948\u001b[0m         \u001b[0;31m# Lifting succeeded, so variables are initialized and we can run the\u001b[0m\u001b[0;34m\u001b[0m\u001b[0;34m\u001b[0m\u001b[0;34m\u001b[0m\u001b[0m\n\u001b[1;32m    949\u001b[0m         \u001b[0;31m# stateless function.\u001b[0m\u001b[0;34m\u001b[0m\u001b[0;34m\u001b[0m\u001b[0;34m\u001b[0m\u001b[0m\n\u001b[0;32m--> 950\u001b[0;31m         \u001b[0;32mreturn\u001b[0m \u001b[0mself\u001b[0m\u001b[0;34m.\u001b[0m\u001b[0m_stateless_fn\u001b[0m\u001b[0;34m(\u001b[0m\u001b[0;34m*\u001b[0m\u001b[0margs\u001b[0m\u001b[0;34m,\u001b[0m \u001b[0;34m**\u001b[0m\u001b[0mkwds\u001b[0m\u001b[0;34m)\u001b[0m\u001b[0;34m\u001b[0m\u001b[0;34m\u001b[0m\u001b[0m\n\u001b[0m\u001b[1;32m    951\u001b[0m     \u001b[0;32melse\u001b[0m\u001b[0;34m:\u001b[0m\u001b[0;34m\u001b[0m\u001b[0;34m\u001b[0m\u001b[0m\n\u001b[1;32m    952\u001b[0m       \u001b[0m_\u001b[0m\u001b[0;34m,\u001b[0m \u001b[0m_\u001b[0m\u001b[0;34m,\u001b[0m \u001b[0m_\u001b[0m\u001b[0;34m,\u001b[0m \u001b[0mfiltered_flat_args\u001b[0m \u001b[0;34m=\u001b[0m\u001b[0;31m \u001b[0m\u001b[0;31m\\\u001b[0m\u001b[0;34m\u001b[0m\u001b[0;34m\u001b[0m\u001b[0m\n",
      "\u001b[0;32m~/.local/lib/python3.9/site-packages/tensorflow/python/eager/function.py\u001b[0m in \u001b[0;36m__call__\u001b[0;34m(self, *args, **kwargs)\u001b[0m\n\u001b[1;32m   3021\u001b[0m       (graph_function,\n\u001b[1;32m   3022\u001b[0m        filtered_flat_args) = self._maybe_define_function(args, kwargs)\n\u001b[0;32m-> 3023\u001b[0;31m     return graph_function._call_flat(\n\u001b[0m\u001b[1;32m   3024\u001b[0m         filtered_flat_args, captured_inputs=graph_function.captured_inputs)  # pylint: disable=protected-access\n\u001b[1;32m   3025\u001b[0m \u001b[0;34m\u001b[0m\u001b[0m\n",
      "\u001b[0;32m~/.local/lib/python3.9/site-packages/tensorflow/python/eager/function.py\u001b[0m in \u001b[0;36m_call_flat\u001b[0;34m(self, args, captured_inputs, cancellation_manager)\u001b[0m\n\u001b[1;32m   1958\u001b[0m         and executing_eagerly):\n\u001b[1;32m   1959\u001b[0m       \u001b[0;31m# No tape is watching; skip to running the function.\u001b[0m\u001b[0;34m\u001b[0m\u001b[0;34m\u001b[0m\u001b[0;34m\u001b[0m\u001b[0m\n\u001b[0;32m-> 1960\u001b[0;31m       return self._build_call_outputs(self._inference_function.call(\n\u001b[0m\u001b[1;32m   1961\u001b[0m           ctx, args, cancellation_manager=cancellation_manager))\n\u001b[1;32m   1962\u001b[0m     forward_backward = self._select_forward_and_backward_functions(\n",
      "\u001b[0;32m~/.local/lib/python3.9/site-packages/tensorflow/python/eager/function.py\u001b[0m in \u001b[0;36mcall\u001b[0;34m(self, ctx, args, cancellation_manager)\u001b[0m\n\u001b[1;32m    589\u001b[0m       \u001b[0;32mwith\u001b[0m \u001b[0m_InterpolateFunctionError\u001b[0m\u001b[0;34m(\u001b[0m\u001b[0mself\u001b[0m\u001b[0;34m)\u001b[0m\u001b[0;34m:\u001b[0m\u001b[0;34m\u001b[0m\u001b[0;34m\u001b[0m\u001b[0m\n\u001b[1;32m    590\u001b[0m         \u001b[0;32mif\u001b[0m \u001b[0mcancellation_manager\u001b[0m \u001b[0;32mis\u001b[0m \u001b[0;32mNone\u001b[0m\u001b[0;34m:\u001b[0m\u001b[0;34m\u001b[0m\u001b[0;34m\u001b[0m\u001b[0m\n\u001b[0;32m--> 591\u001b[0;31m           outputs = execute.execute(\n\u001b[0m\u001b[1;32m    592\u001b[0m               \u001b[0mstr\u001b[0m\u001b[0;34m(\u001b[0m\u001b[0mself\u001b[0m\u001b[0;34m.\u001b[0m\u001b[0msignature\u001b[0m\u001b[0;34m.\u001b[0m\u001b[0mname\u001b[0m\u001b[0;34m)\u001b[0m\u001b[0;34m,\u001b[0m\u001b[0;34m\u001b[0m\u001b[0;34m\u001b[0m\u001b[0m\n\u001b[1;32m    593\u001b[0m               \u001b[0mnum_outputs\u001b[0m\u001b[0;34m=\u001b[0m\u001b[0mself\u001b[0m\u001b[0;34m.\u001b[0m\u001b[0m_num_outputs\u001b[0m\u001b[0;34m,\u001b[0m\u001b[0;34m\u001b[0m\u001b[0;34m\u001b[0m\u001b[0m\n",
      "\u001b[0;32m~/.local/lib/python3.9/site-packages/tensorflow/python/eager/execute.py\u001b[0m in \u001b[0;36mquick_execute\u001b[0;34m(op_name, num_outputs, inputs, attrs, ctx, name)\u001b[0m\n\u001b[1;32m     57\u001b[0m   \u001b[0;32mtry\u001b[0m\u001b[0;34m:\u001b[0m\u001b[0;34m\u001b[0m\u001b[0;34m\u001b[0m\u001b[0m\n\u001b[1;32m     58\u001b[0m     \u001b[0mctx\u001b[0m\u001b[0;34m.\u001b[0m\u001b[0mensure_initialized\u001b[0m\u001b[0;34m(\u001b[0m\u001b[0;34m)\u001b[0m\u001b[0;34m\u001b[0m\u001b[0;34m\u001b[0m\u001b[0m\n\u001b[0;32m---> 59\u001b[0;31m     tensors = pywrap_tfe.TFE_Py_Execute(ctx._handle, device_name, op_name,\n\u001b[0m\u001b[1;32m     60\u001b[0m                                         inputs, attrs, num_outputs)\n\u001b[1;32m     61\u001b[0m   \u001b[0;32mexcept\u001b[0m \u001b[0mcore\u001b[0m\u001b[0;34m.\u001b[0m\u001b[0m_NotOkStatusException\u001b[0m \u001b[0;32mas\u001b[0m \u001b[0me\u001b[0m\u001b[0;34m:\u001b[0m\u001b[0;34m\u001b[0m\u001b[0;34m\u001b[0m\u001b[0m\n",
      "\u001b[0;31mUnknownError\u001b[0m:  Failed to get convolution algorithm. This is probably because cuDNN failed to initialize, so try looking to see if a warning log message was printed above.\n\t [[node sequential/conv2d/Relu (defined at home/ribeiro/.local/lib/python3.9/site-packages/keras/backend.py:4700) ]] [Op:__inference_train_function_1985]\n\nErrors may have originated from an input operation.\nInput Source operations connected to node sequential/conv2d/Relu:\n sequential/conv2d/BiasAdd (defined at home/ribeiro/.local/lib/python3.9/site-packages/keras/layers/convolutional.py:263)\n\nFunction call stack:\ntrain_function\n"
     ]
    }
   ],
   "source": [
    "model_CF_NoNoise.fit(CF_X_NoNoise, CF_y_train, epochs=10, verbose=1)"
   ]
  },
  {
   "cell_type": "code",
   "execution_count": null,
   "id": "9fd9e569",
   "metadata": {},
   "outputs": [],
   "source": []
  },
  {
   "cell_type": "code",
   "execution_count": null,
   "id": "fa5eddd2",
   "metadata": {},
   "outputs": [],
   "source": [
    "model_CF_NoNoise.save('/media/ribeiro/HD/users/Drive/usp/7 semestre/redes neurais/trab2')"
   ]
  },
  {
   "cell_type": "code",
   "execution_count": null,
   "id": "72aad77a",
   "metadata": {},
   "outputs": [],
   "source": []
  },
  {
   "cell_type": "raw",
   "id": "b721fc22",
   "metadata": {},
   "source": [
    "model_CF_LowNoise.fit(CF_X_LowNoise, CF_y_train, epochs=10, verbose=1)"
   ]
  },
  {
   "cell_type": "raw",
   "id": "9f1726f1",
   "metadata": {},
   "source": [
    "model_CF_HighNoise.fit(CF_X_HighNoise, CF_y_train, epochs=10, verbose=1)"
   ]
  },
  {
   "cell_type": "raw",
   "id": "83d3668c",
   "metadata": {},
   "source": [
    "model_SV_NoNoise.fit(SV_X_NoNoise, SV_y_train, epochs=10, verbose=1)"
   ]
  },
  {
   "cell_type": "raw",
   "id": "31d3f503",
   "metadata": {},
   "source": [
    "model_SV_LowNoise.fit(SV_X_LowNoise, SV_y_train, epochs=10, verbose=1)"
   ]
  },
  {
   "cell_type": "raw",
   "id": "9fd38dd6",
   "metadata": {},
   "source": [
    "model_SV_HighNoise.fit(SV_X_HighNoise, SV_y_train, epochs=10, verbose=1)"
   ]
  }
 ],
 "metadata": {
  "kernelspec": {
   "display_name": "Python 3",
   "language": "python",
   "name": "python3"
  },
  "language_info": {
   "codemirror_mode": {
    "name": "ipython",
    "version": 3
   },
   "file_extension": ".py",
   "mimetype": "text/x-python",
   "name": "python",
   "nbconvert_exporter": "python",
   "pygments_lexer": "ipython3",
   "version": "3.8.8"
  }
 },
 "nbformat": 4,
 "nbformat_minor": 5
}
